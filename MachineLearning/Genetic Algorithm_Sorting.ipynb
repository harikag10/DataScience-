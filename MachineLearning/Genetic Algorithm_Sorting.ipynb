{
 "cells": [
  {
   "cell_type": "markdown",
   "metadata": {},
   "source": [
    "## Genetic Sorting Algoirthm"
   ]
  },
  {
   "cell_type": "markdown",
   "metadata": {},
   "source": [
    "## Fitness function \n",
    "In this sorting algorithm , fitness value is the count of the elements already sorted starting with the first element in the set.\n",
    "\n"
   ]
  },
  {
   "cell_type": "code",
   "execution_count": 81,
   "metadata": {},
   "outputs": [],
   "source": [
    "def get_fitness(genes):\n",
    "    fitness=0\n",
    "    for i in range(len(genes)-1):\n",
    "        if genes[i]<=genes[i+1]:\n",
    "            fitness+=1\n",
    "        else:\n",
    "            break\n",
    "    return fitness+1"
   ]
  },
  {
   "cell_type": "markdown",
   "metadata": {},
   "source": [
    "## Mutate\n",
    "Mutating the parent list. The following implementation converts the parent list to a list by swapping 2 elements taking a random index."
   ]
  },
  {
   "cell_type": "code",
   "execution_count": 82,
   "metadata": {},
   "outputs": [],
   "source": [
    "def _mutate(parent):\n",
    "    index = random.randrange(0, len(parent))\n",
    "    childGenes=parent\n",
    "    indexn = random.randrange(0, len(parent))\n",
    "    if(index!=indexn):\n",
    "            temp=childGenes[index]\n",
    "            childGenes[index]=childGenes[indexn]\n",
    "            childGenes[indexn]=temp\n",
    "    else:\n",
    "        _mutate(childGenes)\n",
    "        \n",
    "    return childGenes"
   ]
  },
  {
   "cell_type": "markdown",
   "metadata": {},
   "source": [
    "## Get best\n",
    "Implementing the get_best function - Compares the fitness values of parent and child lists and selects the one with higher fitness value and makes it the new parent and the process is repeated.\n"
   ]
  },
  {
   "cell_type": "code",
   "execution_count": 83,
   "metadata": {},
   "outputs": [],
   "source": [
    "import random\n",
    "def get_best(optimalFitness, geneSet, startTime):\n",
    "    random.seed()\n",
    "    bestParent = geneSet\n",
    "    bestFitness = get_fitness(bestParent)\n",
    "    display(bestParent, startTime)\n",
    "    if bestFitness >= optimalFitness:\n",
    "        return bestParent\n",
    "    \n",
    "    while True:\n",
    "        child = _mutate(bestParent)\n",
    "        childFitness = get_fitness(child)\n",
    "        \n",
    "        if bestFitness >= childFitness:\n",
    "            continue\n",
    "        display(child, startTime)\n",
    "        if childFitness >= optimalFitness:\n",
    "            return child\n",
    "        bestFitness = childFitness\n",
    "        bestParent = child"
   ]
  },
  {
   "cell_type": "markdown",
   "metadata": {},
   "source": [
    "## Genetic sorting algorithm\n",
    "Includes the sort_integers function which accepts a list and returns the sorted list and  also intializing the start time here."
   ]
  },
  {
   "cell_type": "code",
   "execution_count": 84,
   "metadata": {},
   "outputs": [],
   "source": [
    "def sort_integers(geneSet):\n",
    "    startTime = datetime.datetime.now()\n",
    "    optimalFitness = len(geneSet)\n",
    "    get_best(optimalFitness, geneSet, startTime)\n",
    "\n",
    "\n"
   ]
  },
  {
   "cell_type": "markdown",
   "metadata": {},
   "source": [
    "# display function - \n",
    "to view the generations(ChildSets) and their improved fitness values and also the time taken to generate them. "
   ]
  },
  {
   "cell_type": "code",
   "execution_count": 85,
   "metadata": {},
   "outputs": [],
   "source": [
    "import datetime\n",
    "\n",
    "def display(genes, startTime):\n",
    "    timeDiff = datetime.datetime.now() - startTime\n",
    "    fitness = get_fitness(genes)\n",
    "    print(\"{0}\\t{1}\\t{2}\".format(genes, fitness, str(timeDiff)))"
   ]
  },
  {
   "cell_type": "markdown",
   "metadata": {},
   "source": [
    "Initializing a geneset with a list of integers to be sorted "
   ]
  },
  {
   "cell_type": "code",
   "execution_count": 86,
   "metadata": {},
   "outputs": [],
   "source": [
    "geneSet = ['34', '32', '15', '19', '27', '13', '36', '47', '23', '21']"
   ]
  },
  {
   "cell_type": "markdown",
   "metadata": {},
   "source": [
    "Calling our sort_integers function "
   ]
  },
  {
   "cell_type": "code",
   "execution_count": 87,
   "metadata": {},
   "outputs": [
    {
     "name": "stdout",
     "output_type": "stream",
     "text": [
      "['34', '32', '15', '19', '27', '13', '36', '47', '23', '21']\t1\t0:00:00\n",
      "['32', '34', '21', '19', '27', '13', '36', '47', '23', '15']\t2\t0:00:00\n",
      "['27', '36', '47', '13', '23', '19', '34', '32', '21', '15']\t3\t0:00:00\n",
      "['21', '23', '32', '36', '34', '19', '47', '13', '27', '15']\t4\t0:00:00\n",
      "['13', '15', '32', '34', '36', '21', '47', '19', '27', '23']\t5\t0:00:00.001999\n",
      "['15', '19', '27', '32', '36', '47', '23', '34', '21', '13']\t6\t0:00:00.011220\n",
      "['13', '19', '21', '23', '27', '34', '36', '32', '47', '15']\t7\t0:00:00.033645\n",
      "['13', '15', '19', '21', '27', '34', '36', '47', '23', '32']\t8\t0:00:00.050366\n",
      "['13', '15', '19', '21', '27', '32', '34', '36', '47', '23']\t9\t0:00:06.243105\n",
      "['13', '15', '19', '21', '23', '27', '32', '34', '36', '47']\t10\t0:00:44.045761\n"
     ]
    }
   ],
   "source": [
    "sort_integers(geneSet)"
   ]
  },
  {
   "cell_type": "markdown",
   "metadata": {},
   "source": [
    "## Bubble Sort\n",
    "Initializing the bubblesort function "
   ]
  },
  {
   "cell_type": "code",
   "execution_count": 88,
   "metadata": {},
   "outputs": [],
   "source": [
    "def bubble_sort(alist):\n",
    "    startTimeBS = datetime.datetime.now()\n",
    "    ##print(startTimeBS)\n",
    "    for passnum in range(len(alist)-1, 0, -1):\n",
    "        for i in range(passnum):\n",
    "            if alist[i] > alist[i+1]:\n",
    "                temp = alist[i]\n",
    "                alist[i] = alist[i+1]\n",
    "                alist[i+1] = temp\n",
    "    display(geneSet, startTimeBS)\n",
    "    "
   ]
  },
  {
   "cell_type": "markdown",
   "metadata": {},
   "source": [
    "Calling the bubblesort function and displaying the time it takes to generate the sorted list"
   ]
  },
  {
   "cell_type": "code",
   "execution_count": 132,
   "metadata": {},
   "outputs": [
    {
     "name": "stdout",
     "output_type": "stream",
     "text": [
      "['13', '15', '19', '21', '23', '27', '32', '34', '36', '47']\t10\t0:00:00\n"
     ]
    }
   ],
   "source": [
    "bubble_sort(geneSet)"
   ]
  },
  {
   "cell_type": "markdown",
   "metadata": {},
   "source": [
    "## Merge Sort\n",
    "Initializing the merge sort function"
   ]
  },
  {
   "cell_type": "code",
   "execution_count": 92,
   "metadata": {},
   "outputs": [],
   "source": [
    "def merge_sort(alist):\n",
    "    #print(\"Splitting \", alist)\n",
    "    \n",
    "    if len(alist) > 1:\n",
    "        mid = len(alist)//2\n",
    "        lefthalf = alist[:mid]\n",
    "        righthalf = alist[mid:]\n",
    "        \n",
    "        merge_sort(lefthalf)\n",
    "        merge_sort(righthalf)\n",
    "        \n",
    "        i = 0\n",
    "        j = 0\n",
    "        k = 0\n",
    "        \n",
    "        while i < len(lefthalf) and j < len(righthalf):\n",
    "            if lefthalf[i] < righthalf[j]:\n",
    "                alist[k] = lefthalf[i]\n",
    "                i += 1\n",
    "            else:\n",
    "                alist[k] = righthalf[j]\n",
    "                j += 1\n",
    "                \n",
    "            k += 1\n",
    "                \n",
    "        while i < len(lefthalf):\n",
    "            alist[k] = lefthalf[i]\n",
    "            i += 1\n",
    "            k += 1\n",
    "            \n",
    "        while j < len(righthalf):\n",
    "            alist[k] = righthalf[j]\n",
    "            j += 1\n",
    "            k += 1\n",
    "    "
   ]
  },
  {
   "cell_type": "markdown",
   "metadata": {},
   "source": [
    "Calling the merge sort fucntion and displaying the time it takes to generate the sorted list"
   ]
  },
  {
   "cell_type": "code",
   "execution_count": 181,
   "metadata": {},
   "outputs": [
    {
     "name": "stdout",
     "output_type": "stream",
     "text": [
      "['13', '15', '19', '21', '23', '27', '32', '34', '36', '47']\t10\t0:00:00\n"
     ]
    }
   ],
   "source": [
    "startTimeMS = datetime.datetime.now()\n",
    "merge_sort(geneSet)\n",
    "display(geneSet, startTimeMS)"
   ]
  },
  {
   "cell_type": "code",
   "execution_count": null,
   "metadata": {},
   "outputs": [],
   "source": [
    "On comparing the three bubble sorting took the least time"
   ]
  },
  {
   "cell_type": "markdown",
   "metadata": {},
   "source": [
    "## Turtle Graphics for plant growth\n",
    "Growing a plant on a two dimensional (2D) surface. Here the outputs of the L-system are actually instructions telling the plant \n",
    "where on this 2D surface to “grow” next. There are six basic symbols, which can be thought of as representing a developmental\n",
    "“command”.\n",
    "\n",
    "F = go forward\n",
    "X = stay\n",
    "+ = turn right 25 degrees\n",
    "- = turn left 25 degrees\n",
    "[ = save current (x, y) position on to the stack\n",
    "] = go back to saved (x, y) position\n",
    "The production rules treat F and X as variables (meaning that only those two symbols are expanded into other symbols), and +, -, [, ] are constants (they are terminal symbols: symbols that don’t get expanded into anything else). So without further ado, here are the two rules:\n",
    "\n",
    "F → FF\n",
    "X → F−[[X]+X]+F[+FX]−X\n",
    "\n",
    "generateString - generates the instruction string used by the turtle to move. \n",
    "drawPlant function - takes in the instruction string obtained and gives instructions to the turtle object about how to move, and \n",
    "setup function is just used for intial setup of the window and turtle position."
   ]
  },
  {
   "cell_type": "markdown",
   "metadata": {},
   "source": [
    "Here is the code - "
   ]
  },
  {
   "cell_type": "code",
   "execution_count": null,
   "metadata": {},
   "outputs": [],
   "source": [
    "from turtle import Turtle\n",
    "import sys\n",
    "\n",
    "t=Turtle()\n",
    "\n",
    "# this function generates the instruction string used by the turtle to move\n",
    "def generateString(number, output='[X]', show=False):\n",
    "    for i in range(number):\n",
    "        new_output = \"\"\n",
    "        for letter in output:\n",
    "            # rule #1\n",
    "            if letter == \"X\":\n",
    "                new_output += \"F-[[X]+X]+F[+FX]-X\"\n",
    "                # rule #2\n",
    "            elif letter == \"F\":\n",
    "                new_output += \"FF\"\n",
    "            else:\n",
    "                new_output += letter\n",
    "        output = new_output\n",
    "        if show: print(\"n =\", i+1, output, \"[\", len(output), \"]\")\n",
    "    return output\n",
    "\n",
    "# this function takes in the instruction string obtained and gives instructions to the turtle object about how to move\n",
    "def drawPlant(instructions, size=2):\n",
    "    stack = []\n",
    "    \n",
    "    for cmd in instructions:\n",
    "        if cmd=='F':\n",
    "            t.forward(size)\n",
    "        elif cmd=='-':\n",
    "            t.left(25)\n",
    "        elif cmd=='+':\n",
    "            t.right(25)\n",
    "        elif cmd=='X':\n",
    "            pass\n",
    "        elif cmd=='[':\n",
    "            stack.append((t.position(), t.heading()))\n",
    "        elif cmd==']':\n",
    "            position, heading = stack.pop()\n",
    "            t.penup()\n",
    "            t.setposition(position)\n",
    "            t.setheading(heading)\n",
    "            t.pendown()\n",
    "\n",
    "    \n",
    "# this function used for intial setup of the window and configuring turtle position \n",
    "def setup():\n",
    "    t.hideturtle()\n",
    "    t.left(90)\n",
    "    t.screen.tracer(1e3,0) # to accelerate the drawing with 0 delay\n",
    "    t.penup()\n",
    "    t.goto(0,-t.screen.window_height()/2)\n",
    "    t.pendown()\n",
    "\n",
    "setup()\n",
    "plant = generateString(6, output='[X]', show=False)\n",
    "drawPlant(plant, 2)\n",
    "t.screen.exitonclick()"
   ]
  }
 ],
 "metadata": {
  "kernelspec": {
   "display_name": "Python 3",
   "language": "python",
   "name": "python3"
  },
  "language_info": {
   "codemirror_mode": {
    "name": "ipython",
    "version": 3
   },
   "file_extension": ".py",
   "mimetype": "text/x-python",
   "name": "python",
   "nbconvert_exporter": "python",
   "pygments_lexer": "ipython3",
   "version": "3.5.6"
  }
 },
 "nbformat": 4,
 "nbformat_minor": 4
}
