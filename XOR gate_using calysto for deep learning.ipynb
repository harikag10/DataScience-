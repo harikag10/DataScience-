{
 "cells": [
  {
   "cell_type": "markdown",
   "metadata": {},
   "source": [
    "\n",
    "\n",
    "### The Exclusive OR (XOR)\n",
    "\n",
    "Consider the classical Exlusive Or (XOR) [problem](https://en.wikipedia.org/wiki/Exclusive_or) involving two inputs  **x1**  and  **x2**  where  $x_i ∈ (0,1)$.\n",
    "\n",
    "This problem states that the output should be 1 if exactly one of the inputs is 1 and 0 otherwise. Thus this problem has a very simple known input-output relationship\n",
    "\n",
    "**x1** | **x2** | **Output**\n",
    "------------|-------------|-------\n",
    " 0 | 0 | 0\n",
    " 1 | 0 | 1 \n",
    " 0 | 1 | 1 \n",
    " 1 | 1 | 0\n",
    "\n",
    "The XOR network is typically presented as having 2 input nodes, 2 hidden layer nodes, and one output node.\n",
    "\n",
    "Your output layer will have a single node. You will interpret the out values as being 0 (or false) for output values less than 0 and 1 (or true) for output values greater than 0.\n",
    "\n",
    "Use `calysto` as we did for the AND to solve the Exclusive OR problem. In other words, program an [auto-encoder](https://en.wikipedia.org/wiki/Autoencoder) (generative model) for XOR.\n"
   ]
  },
  {
   "cell_type": "markdown",
   "metadata": {},
   "source": [
    "Creating a 2-3-1 network for XOR \n",
    "\n",
    "* input layer consisting of two units\n",
    "* hidden layer of three \n",
    "* output layer of one unit"
   ]
  },
  {
   "cell_type": "code",
   "execution_count": 37,
   "metadata": {},
   "outputs": [
    {
     "name": "stdout",
     "output_type": "stream",
     "text": [
      "Conx using seed: 1575527429.0205698\n"
     ]
    },
    {
     "data": {
      "text/plain": [
       "Layer 'output': (Kind: Output, Size: 1, Active: 1, Frozen: 0)\n",
       "Target    : 0.00  \n",
       "Activation: 0.00  \n",
       "Layer 'hidden': (Kind: Hidden, Size: 3, Active: 1, Frozen: 0)\n",
       "Activation: 0.00  0.00  0.00  \n",
       "Layer 'input': (Kind: Input, Size: 2, Active: 1, Frozen: 0)\n",
       "Activation: 0.00  0.00  "
      ]
     },
     "execution_count": 37,
     "metadata": {},
     "output_type": "execute_result"
    }
   ],
   "source": [
    "from calysto.ai.conx import *\n",
    "\n",
    "net = Network()\n",
    "net.addLayers(2, 3, 1) #input 2, hidden 3, output 1\n",
    "net"
   ]
  },
  {
   "cell_type": "markdown",
   "metadata": {},
   "source": [
    "We can propagate activation through the network (from input layer, through the hidden layer, to output layer):"
   ]
  },
  {
   "cell_type": "code",
   "execution_count": 38,
   "metadata": {},
   "outputs": [
    {
     "data": {
      "text/plain": [
       "array('d', [0.5282676200217309])"
      ]
     },
     "execution_count": 38,
     "metadata": {},
     "output_type": "execute_result"
    }
   ],
   "source": [
    "net.propagate(input=[100, 100])"
   ]
  },
  {
   "cell_type": "markdown",
   "metadata": {},
   "source": [
    "To see how an untrained network works on the XOR problem, we can just propagate the input activations for each input pattern:"
   ]
  },
  {
   "cell_type": "code",
   "execution_count": 39,
   "metadata": {},
   "outputs": [
    {
     "name": "stdout",
     "output_type": "stream",
     "text": [
      "[0, 0] array('d', [0.5184351648882682])\n",
      "[0, 1] array('d', [0.5189078300667506])\n",
      "[1, 0] array('d', [0.5187302930899504])\n",
      "[1, 1] array('d', [0.5192015718633067])\n"
     ]
    }
   ],
   "source": [
    "for pattern in [[0, 0], [0, 1], [1, 0], [1, 1]]:\n",
    "    print(pattern, net.propagate(input=pattern))"
   ]
  },
  {
   "cell_type": "code",
   "execution_count": 40,
   "metadata": {},
   "outputs": [
    {
     "name": "stdout",
     "output_type": "stream",
     "text": [
      "Epoch #     1 | TSS Error: 1.0759 | Correct: 0.0000 | RMS Error: 0.5186\n",
      "Epoch #     2 | TSS Error: 1.2702 | Correct: 0.0000 | RMS Error: 0.5635\n",
      "Epoch #     3 | TSS Error: 1.0920 | Correct: 0.0000 | RMS Error: 0.5225\n",
      "Epoch #     4 | TSS Error: 1.0772 | Correct: 0.0000 | RMS Error: 0.5189\n",
      "Epoch #     5 | TSS Error: 1.1121 | Correct: 0.0000 | RMS Error: 0.5273\n",
      "Epoch #     6 | TSS Error: 1.1120 | Correct: 0.0000 | RMS Error: 0.5272\n",
      "Epoch #     7 | TSS Error: 1.0685 | Correct: 0.0000 | RMS Error: 0.5168\n",
      "Epoch #     8 | TSS Error: 1.0801 | Correct: 0.0000 | RMS Error: 0.5196\n",
      "Epoch #     9 | TSS Error: 1.0696 | Correct: 0.0000 | RMS Error: 0.5171\n",
      "Epoch #    10 | TSS Error: 1.2074 | Correct: 0.0000 | RMS Error: 0.5494\n",
      "Epoch #    11 | TSS Error: 1.1164 | Correct: 0.0000 | RMS Error: 0.5283\n",
      "Epoch #    12 | TSS Error: 1.1389 | Correct: 0.0000 | RMS Error: 0.5336\n",
      "Epoch #    13 | TSS Error: 1.1303 | Correct: 0.0000 | RMS Error: 0.5316\n",
      "Epoch #    14 | TSS Error: 1.2216 | Correct: 0.0000 | RMS Error: 0.5526\n",
      "Epoch #    15 | TSS Error: 1.0608 | Correct: 0.0000 | RMS Error: 0.5150\n",
      "Epoch #    16 | TSS Error: 1.1449 | Correct: 0.0000 | RMS Error: 0.5350\n",
      "Epoch #    17 | TSS Error: 1.0629 | Correct: 0.0000 | RMS Error: 0.5155\n",
      "Epoch #    18 | TSS Error: 1.0200 | Correct: 0.0000 | RMS Error: 0.5050\n",
      "Epoch #    19 | TSS Error: 1.0252 | Correct: 0.0000 | RMS Error: 0.5063\n",
      "Epoch #    20 | TSS Error: 1.1058 | Correct: 0.0000 | RMS Error: 0.5258\n",
      "Epoch #    21 | TSS Error: 1.0155 | Correct: 0.0000 | RMS Error: 0.5039\n",
      "Epoch #    22 | TSS Error: 1.0744 | Correct: 0.0000 | RMS Error: 0.5183\n",
      "Epoch #    23 | TSS Error: 1.1406 | Correct: 0.0000 | RMS Error: 0.5340\n",
      "Epoch #    24 | TSS Error: 1.0775 | Correct: 0.0000 | RMS Error: 0.5190\n",
      "Epoch #    25 | TSS Error: 1.0739 | Correct: 0.0000 | RMS Error: 0.5182\n",
      "Epoch #    26 | TSS Error: 1.0686 | Correct: 0.0000 | RMS Error: 0.5169\n",
      "Epoch #    27 | TSS Error: 1.1601 | Correct: 0.0000 | RMS Error: 0.5385\n",
      "Epoch #    28 | TSS Error: 1.0310 | Correct: 0.0000 | RMS Error: 0.5077\n",
      "Epoch #    29 | TSS Error: 1.0548 | Correct: 0.0000 | RMS Error: 0.5135\n",
      "Epoch #    30 | TSS Error: 1.1915 | Correct: 0.0000 | RMS Error: 0.5458\n",
      "Epoch #    31 | TSS Error: 1.1088 | Correct: 0.0000 | RMS Error: 0.5265\n",
      "Epoch #    32 | TSS Error: 0.9888 | Correct: 0.0000 | RMS Error: 0.4972\n",
      "Epoch #    33 | TSS Error: 0.9922 | Correct: 0.0000 | RMS Error: 0.4980\n",
      "Epoch #    34 | TSS Error: 1.0477 | Correct: 0.0000 | RMS Error: 0.5118\n",
      "Epoch #    35 | TSS Error: 1.0904 | Correct: 0.0000 | RMS Error: 0.5221\n",
      "Epoch #    36 | TSS Error: 1.0313 | Correct: 0.0000 | RMS Error: 0.5078\n",
      "Epoch #    37 | TSS Error: 1.2133 | Correct: 0.0000 | RMS Error: 0.5508\n",
      "Epoch #    38 | TSS Error: 1.0646 | Correct: 0.0000 | RMS Error: 0.5159\n",
      "Epoch #    39 | TSS Error: 1.0551 | Correct: 0.0000 | RMS Error: 0.5136\n",
      "Epoch #    40 | TSS Error: 1.0449 | Correct: 0.0000 | RMS Error: 0.5111\n",
      "Epoch #    41 | TSS Error: 1.0465 | Correct: 0.0000 | RMS Error: 0.5115\n",
      "Epoch #    42 | TSS Error: 1.0487 | Correct: 0.0000 | RMS Error: 0.5120\n",
      "Epoch #    43 | TSS Error: 1.0585 | Correct: 0.0000 | RMS Error: 0.5144\n",
      "Epoch #    44 | TSS Error: 1.0383 | Correct: 0.0000 | RMS Error: 0.5095\n",
      "Epoch #    45 | TSS Error: 1.0291 | Correct: 0.0000 | RMS Error: 0.5072\n",
      "Epoch #    46 | TSS Error: 1.1682 | Correct: 0.0000 | RMS Error: 0.5404\n",
      "Epoch #    47 | TSS Error: 1.0380 | Correct: 0.0000 | RMS Error: 0.5094\n",
      "Epoch #    48 | TSS Error: 1.0475 | Correct: 0.0000 | RMS Error: 0.5117\n",
      "Epoch #    49 | TSS Error: 1.0393 | Correct: 0.0000 | RMS Error: 0.5097\n",
      "Epoch #    50 | TSS Error: 1.0658 | Correct: 0.0000 | RMS Error: 0.5162\n",
      "Epoch #    51 | TSS Error: 1.0782 | Correct: 0.0000 | RMS Error: 0.5192\n",
      "Epoch #    52 | TSS Error: 1.0360 | Correct: 0.0000 | RMS Error: 0.5089\n",
      "Epoch #    53 | TSS Error: 1.1339 | Correct: 0.0000 | RMS Error: 0.5324\n",
      "Epoch #    54 | TSS Error: 1.0879 | Correct: 0.0000 | RMS Error: 0.5215\n",
      "Epoch #    55 | TSS Error: 1.0281 | Correct: 0.0000 | RMS Error: 0.5070\n",
      "Epoch #    56 | TSS Error: 1.0556 | Correct: 0.0000 | RMS Error: 0.5137\n",
      "Epoch #    57 | TSS Error: 1.0335 | Correct: 0.0000 | RMS Error: 0.5083\n",
      "Epoch #    58 | TSS Error: 1.0293 | Correct: 0.0000 | RMS Error: 0.5073\n",
      "Epoch #    59 | TSS Error: 1.0215 | Correct: 0.0000 | RMS Error: 0.5054\n",
      "Epoch #    60 | TSS Error: 1.0012 | Correct: 0.0000 | RMS Error: 0.5003\n",
      "Epoch #    61 | TSS Error: 1.0491 | Correct: 0.0000 | RMS Error: 0.5121\n",
      "Epoch #    62 | TSS Error: 1.0205 | Correct: 0.0000 | RMS Error: 0.5051\n",
      "Epoch #    63 | TSS Error: 1.0074 | Correct: 0.0000 | RMS Error: 0.5018\n",
      "Epoch #    64 | TSS Error: 1.0188 | Correct: 0.0000 | RMS Error: 0.5047\n",
      "Epoch #    65 | TSS Error: 1.1124 | Correct: 0.0000 | RMS Error: 0.5273\n",
      "Epoch #    66 | TSS Error: 1.0244 | Correct: 0.0000 | RMS Error: 0.5061\n",
      "Epoch #    67 | TSS Error: 0.9926 | Correct: 0.0000 | RMS Error: 0.4981\n",
      "Epoch #    68 | TSS Error: 1.1276 | Correct: 0.0000 | RMS Error: 0.5309\n",
      "Epoch #    69 | TSS Error: 0.9901 | Correct: 0.0000 | RMS Error: 0.4975\n",
      "Epoch #    70 | TSS Error: 1.1677 | Correct: 0.0000 | RMS Error: 0.5403\n",
      "Epoch #    71 | TSS Error: 1.0202 | Correct: 0.0000 | RMS Error: 0.5050\n",
      "Epoch #    72 | TSS Error: 0.9999 | Correct: 0.0000 | RMS Error: 0.5000\n",
      "Epoch #    73 | TSS Error: 1.1884 | Correct: 0.0000 | RMS Error: 0.5451\n",
      "Epoch #    74 | TSS Error: 1.0033 | Correct: 0.0000 | RMS Error: 0.5008\n",
      "Epoch #    75 | TSS Error: 1.0097 | Correct: 0.0000 | RMS Error: 0.5024\n",
      "Epoch #    76 | TSS Error: 0.9153 | Correct: 0.0000 | RMS Error: 0.4784\n",
      "Epoch #    77 | TSS Error: 0.9335 | Correct: 0.0000 | RMS Error: 0.4831\n",
      "Epoch #    78 | TSS Error: 1.0531 | Correct: 0.0000 | RMS Error: 0.5131\n",
      "Epoch #    79 | TSS Error: 0.9508 | Correct: 0.0000 | RMS Error: 0.4875\n",
      "Epoch #    80 | TSS Error: 0.9280 | Correct: 0.0000 | RMS Error: 0.4817\n",
      "Epoch #    81 | TSS Error: 0.9162 | Correct: 0.0000 | RMS Error: 0.4786\n",
      "Epoch #    82 | TSS Error: 1.0062 | Correct: 0.0000 | RMS Error: 0.5016\n",
      "Epoch #    83 | TSS Error: 0.9922 | Correct: 0.0000 | RMS Error: 0.4980\n",
      "Epoch #    84 | TSS Error: 0.9331 | Correct: 0.0000 | RMS Error: 0.4830\n",
      "Epoch #    85 | TSS Error: 0.9431 | Correct: 0.0000 | RMS Error: 0.4856\n",
      "Epoch #    86 | TSS Error: 0.8628 | Correct: 0.0000 | RMS Error: 0.4644\n",
      "Epoch #    87 | TSS Error: 0.9450 | Correct: 0.2500 | RMS Error: 0.4861\n",
      "Epoch #    88 | TSS Error: 1.0951 | Correct: 0.2500 | RMS Error: 0.5232\n",
      "Epoch #    89 | TSS Error: 0.9589 | Correct: 0.2500 | RMS Error: 0.4896\n",
      "Epoch #    90 | TSS Error: 0.8973 | Correct: 0.0000 | RMS Error: 0.4736\n",
      "Epoch #    91 | TSS Error: 0.8804 | Correct: 0.0000 | RMS Error: 0.4691\n",
      "Epoch #    92 | TSS Error: 0.8932 | Correct: 0.0000 | RMS Error: 0.4726\n",
      "Epoch #    93 | TSS Error: 0.8712 | Correct: 0.0000 | RMS Error: 0.4667\n",
      "Epoch #    94 | TSS Error: 0.8826 | Correct: 0.0000 | RMS Error: 0.4697\n",
      "Epoch #    95 | TSS Error: 0.8647 | Correct: 0.0000 | RMS Error: 0.4649\n",
      "Epoch #    96 | TSS Error: 0.8649 | Correct: 0.0000 | RMS Error: 0.4650\n",
      "Epoch #    97 | TSS Error: 0.8748 | Correct: 0.0000 | RMS Error: 0.4677\n",
      "Epoch #    98 | TSS Error: 0.8599 | Correct: 0.0000 | RMS Error: 0.4637\n",
      "Epoch #    99 | TSS Error: 0.8576 | Correct: 0.0000 | RMS Error: 0.4630\n",
      "Epoch #   100 | TSS Error: 0.9807 | Correct: 0.2500 | RMS Error: 0.4951\n",
      "Epoch #   101 | TSS Error: 0.8826 | Correct: 0.2500 | RMS Error: 0.4697\n",
      "Epoch #   102 | TSS Error: 0.8338 | Correct: 0.0000 | RMS Error: 0.4566\n",
      "Epoch #   103 | TSS Error: 0.9549 | Correct: 0.0000 | RMS Error: 0.4886\n",
      "Epoch #   104 | TSS Error: 0.8786 | Correct: 0.0000 | RMS Error: 0.4687\n",
      "Epoch #   105 | TSS Error: 0.8493 | Correct: 0.0000 | RMS Error: 0.4608\n",
      "Epoch #   106 | TSS Error: 0.8512 | Correct: 0.2500 | RMS Error: 0.4613\n",
      "Epoch #   107 | TSS Error: 0.9548 | Correct: 0.2500 | RMS Error: 0.4886\n",
      "Epoch #   108 | TSS Error: 0.8870 | Correct: 0.2500 | RMS Error: 0.4709\n",
      "Epoch #   109 | TSS Error: 0.8697 | Correct: 0.0000 | RMS Error: 0.4663\n",
      "Epoch #   110 | TSS Error: 0.8591 | Correct: 0.0000 | RMS Error: 0.4634\n",
      "Epoch #   111 | TSS Error: 0.8408 | Correct: 0.0000 | RMS Error: 0.4585\n",
      "Epoch #   112 | TSS Error: 0.8549 | Correct: 0.0000 | RMS Error: 0.4623\n",
      "Epoch #   113 | TSS Error: 0.8735 | Correct: 0.0000 | RMS Error: 0.4673\n",
      "Epoch #   114 | TSS Error: 0.8808 | Correct: 0.0000 | RMS Error: 0.4693\n"
     ]
    },
    {
     "name": "stdout",
     "output_type": "stream",
     "text": [
      "Epoch #   115 | TSS Error: 0.9299 | Correct: 0.0000 | RMS Error: 0.4822\n",
      "Epoch #   116 | TSS Error: 0.8783 | Correct: 0.0000 | RMS Error: 0.4686\n",
      "Epoch #   117 | TSS Error: 0.8888 | Correct: 0.0000 | RMS Error: 0.4714\n",
      "Epoch #   118 | TSS Error: 0.9458 | Correct: 0.2500 | RMS Error: 0.4863\n",
      "Epoch #   119 | TSS Error: 0.9899 | Correct: 0.0000 | RMS Error: 0.4975\n",
      "Epoch #   120 | TSS Error: 0.8727 | Correct: 0.0000 | RMS Error: 0.4671\n",
      "Epoch #   121 | TSS Error: 0.8643 | Correct: 0.0000 | RMS Error: 0.4648\n",
      "Epoch #   122 | TSS Error: 0.9003 | Correct: 0.2500 | RMS Error: 0.4744\n",
      "Epoch #   123 | TSS Error: 0.8792 | Correct: 0.0000 | RMS Error: 0.4688\n",
      "Epoch #   124 | TSS Error: 0.8765 | Correct: 0.0000 | RMS Error: 0.4681\n",
      "Epoch #   125 | TSS Error: 0.8659 | Correct: 0.0000 | RMS Error: 0.4653\n",
      "Epoch #   126 | TSS Error: 0.9646 | Correct: 0.2500 | RMS Error: 0.4911\n",
      "Epoch #   127 | TSS Error: 0.9121 | Correct: 0.2500 | RMS Error: 0.4775\n",
      "Epoch #   128 | TSS Error: 0.8962 | Correct: 0.0000 | RMS Error: 0.4733\n",
      "Epoch #   129 | TSS Error: 0.9247 | Correct: 0.0000 | RMS Error: 0.4808\n",
      "Epoch #   130 | TSS Error: 0.9242 | Correct: 0.0000 | RMS Error: 0.4807\n",
      "Epoch #   131 | TSS Error: 0.9838 | Correct: 0.0000 | RMS Error: 0.4959\n",
      "Epoch #   132 | TSS Error: 0.9419 | Correct: 0.2500 | RMS Error: 0.4853\n",
      "Epoch #   133 | TSS Error: 0.8859 | Correct: 0.0000 | RMS Error: 0.4706\n",
      "Epoch #   134 | TSS Error: 0.8729 | Correct: 0.0000 | RMS Error: 0.4671\n",
      "Epoch #   135 | TSS Error: 1.0061 | Correct: 0.0000 | RMS Error: 0.5015\n",
      "Epoch #   136 | TSS Error: 0.9196 | Correct: 0.0000 | RMS Error: 0.4795\n",
      "Epoch #   137 | TSS Error: 0.8156 | Correct: 0.0000 | RMS Error: 0.4516\n",
      "Epoch #   138 | TSS Error: 1.1148 | Correct: 0.2500 | RMS Error: 0.5279\n",
      "Epoch #   139 | TSS Error: 1.1215 | Correct: 0.2500 | RMS Error: 0.5295\n",
      "Epoch #   140 | TSS Error: 0.8523 | Correct: 0.0000 | RMS Error: 0.4616\n",
      "Epoch #   141 | TSS Error: 0.8613 | Correct: 0.0000 | RMS Error: 0.4640\n",
      "Epoch #   142 | TSS Error: 0.9121 | Correct: 0.0000 | RMS Error: 0.4775\n",
      "Epoch #   143 | TSS Error: 0.9898 | Correct: 0.0000 | RMS Error: 0.4974\n",
      "Epoch #   144 | TSS Error: 0.8799 | Correct: 0.0000 | RMS Error: 0.4690\n",
      "Epoch #   145 | TSS Error: 0.8323 | Correct: 0.0000 | RMS Error: 0.4561\n",
      "Epoch #   146 | TSS Error: 0.8434 | Correct: 0.0000 | RMS Error: 0.4592\n",
      "Epoch #   147 | TSS Error: 0.9568 | Correct: 0.2500 | RMS Error: 0.4891\n",
      "Epoch #   148 | TSS Error: 0.9052 | Correct: 0.2500 | RMS Error: 0.4757\n",
      "Epoch #   149 | TSS Error: 1.0387 | Correct: 0.0000 | RMS Error: 0.5096\n",
      "Epoch #   150 | TSS Error: 0.9066 | Correct: 0.0000 | RMS Error: 0.4761\n",
      "Epoch #   151 | TSS Error: 0.8610 | Correct: 0.0000 | RMS Error: 0.4640\n",
      "Epoch #   152 | TSS Error: 0.8505 | Correct: 0.0000 | RMS Error: 0.4611\n",
      "Epoch #   153 | TSS Error: 0.9716 | Correct: 0.2500 | RMS Error: 0.4929\n",
      "Epoch #   154 | TSS Error: 0.9365 | Correct: 0.2500 | RMS Error: 0.4839\n",
      "Epoch #   155 | TSS Error: 0.8129 | Correct: 0.2500 | RMS Error: 0.4508\n",
      "Epoch #   156 | TSS Error: 0.8705 | Correct: 0.0000 | RMS Error: 0.4665\n",
      "Epoch #   157 | TSS Error: 0.9528 | Correct: 0.0000 | RMS Error: 0.4880\n",
      "Epoch #   158 | TSS Error: 0.9860 | Correct: 0.0000 | RMS Error: 0.4965\n",
      "Epoch #   159 | TSS Error: 0.8705 | Correct: 0.2500 | RMS Error: 0.4665\n",
      "Epoch #   160 | TSS Error: 0.8933 | Correct: 0.2500 | RMS Error: 0.4726\n",
      "Epoch #   161 | TSS Error: 0.8308 | Correct: 0.0000 | RMS Error: 0.4557\n",
      "Epoch #   162 | TSS Error: 0.8646 | Correct: 0.0000 | RMS Error: 0.4649\n",
      "Epoch #   163 | TSS Error: 0.9841 | Correct: 0.0000 | RMS Error: 0.4960\n",
      "Epoch #   164 | TSS Error: 0.9327 | Correct: 0.2500 | RMS Error: 0.4829\n",
      "Epoch #   165 | TSS Error: 0.8550 | Correct: 0.2500 | RMS Error: 0.4623\n",
      "Epoch #   166 | TSS Error: 0.8392 | Correct: 0.2500 | RMS Error: 0.4580\n",
      "Epoch #   167 | TSS Error: 0.8288 | Correct: 0.0000 | RMS Error: 0.4552\n",
      "Epoch #   168 | TSS Error: 0.8230 | Correct: 0.0000 | RMS Error: 0.4536\n",
      "Epoch #   169 | TSS Error: 0.8244 | Correct: 0.0000 | RMS Error: 0.4540\n",
      "Epoch #   170 | TSS Error: 0.7830 | Correct: 0.0000 | RMS Error: 0.4424\n",
      "Epoch #   171 | TSS Error: 0.9939 | Correct: 0.2500 | RMS Error: 0.4985\n",
      "Epoch #   172 | TSS Error: 0.7209 | Correct: 0.2500 | RMS Error: 0.4245\n",
      "Epoch #   173 | TSS Error: 0.6453 | Correct: 0.0000 | RMS Error: 0.4017\n",
      "Epoch #   174 | TSS Error: 0.6186 | Correct: 0.0000 | RMS Error: 0.3933\n",
      "Epoch #   175 | TSS Error: 0.5614 | Correct: 0.0000 | RMS Error: 0.3746\n",
      "Epoch #   176 | TSS Error: 0.4697 | Correct: 0.0000 | RMS Error: 0.3427\n",
      "Epoch #   177 | TSS Error: 0.5095 | Correct: 0.2500 | RMS Error: 0.3569\n",
      "Epoch #   178 | TSS Error: 0.4822 | Correct: 0.2500 | RMS Error: 0.3472\n",
      "Epoch #   179 | TSS Error: 0.4143 | Correct: 0.0000 | RMS Error: 0.3218\n",
      "Epoch #   180 | TSS Error: 0.3308 | Correct: 0.2500 | RMS Error: 0.2876\n",
      "Epoch #   181 | TSS Error: 0.2314 | Correct: 0.2500 | RMS Error: 0.2405\n",
      "Epoch #   182 | TSS Error: 0.2155 | Correct: 0.2500 | RMS Error: 0.2321\n",
      "Epoch #   183 | TSS Error: 0.2008 | Correct: 0.5000 | RMS Error: 0.2241\n",
      "Epoch #   184 | TSS Error: 0.1501 | Correct: 0.7500 | RMS Error: 0.1937\n",
      "Epoch #   185 | TSS Error: 0.1706 | Correct: 0.5000 | RMS Error: 0.2065\n",
      "Epoch #   186 | TSS Error: 0.1424 | Correct: 0.5000 | RMS Error: 0.1887\n",
      "Epoch #   187 | TSS Error: 0.1161 | Correct: 0.5000 | RMS Error: 0.1704\n",
      "Epoch #   188 | TSS Error: 0.1024 | Correct: 0.7500 | RMS Error: 0.1600\n",
      "Epoch #   189 | TSS Error: 0.0894 | Correct: 0.7500 | RMS Error: 0.1495\n",
      "Epoch #   190 | TSS Error: 0.0714 | Correct: 1.0000 | RMS Error: 0.1336\n",
      "Final #   190 | TSS Error: 0.0714 | Correct: 1.0000 | RMS Error: 0.1336\n"
     ]
    }
   ],
   "source": [
    "# provide training patterns (inputs and outputs)\n",
    "net.setInputs([[0.0, 0.0],[0.0, 1.0],[1.0, 0.0],[1.0, 1.0]])\n",
    "net.setOutputs([[0.0],[1.0],[1.0],[0.0]])\n",
    "\n",
    "# set learning parameters\n",
    "net.setEpsilon(0.5)\n",
    "net.setTolerance(0.2)\n",
    "net.setReportRate(1)\n",
    "\n",
    "# learn\n",
    "net.train()"
   ]
  },
  {
   "cell_type": "code",
   "execution_count": 41,
   "metadata": {},
   "outputs": [
    {
     "name": "stdout",
     "output_type": "stream",
     "text": [
      "[0, 0] array('d', [0.10243306818919148])\n",
      "[0, 1] array('d', [0.848525751303259])\n",
      "[1, 0] array('d', [0.8589088996041211])\n",
      "[1, 1] array('d', [0.11396896386084288])\n"
     ]
    }
   ],
   "source": [
    "for pattern in [[0, 0], [0, 1], [1, 0], [1, 1]]:\n",
    "    print(pattern, net.propagate(input=pattern))"
   ]
  },
  {
   "cell_type": "markdown",
   "metadata": {},
   "source": [
    "Yes! It really works. But wait, it gets better.\n",
    "\n",
    "#### Generalization\n"
   ]
  },
  {
   "cell_type": "code",
   "execution_count": 42,
   "metadata": {},
   "outputs": [
    {
     "data": {
      "text/plain": [
       "array('d', [0.8578991627823089])"
      ]
     },
     "execution_count": 42,
     "metadata": {},
     "output_type": "execute_result"
    }
   ],
   "source": [
    "net.propagate(input=[0.01, 0.9])"
   ]
  },
  {
   "cell_type": "code",
   "execution_count": 43,
   "metadata": {},
   "outputs": [
    {
     "data": {
      "image/png": "[encoded data removed]",
      "text/plain": [
       "<Figure size 432x288 with 1 Axes>"
      ]
     },
     "metadata": {
      "needs_background": "light"
     },
     "output_type": "display_data"
    }
   ],
   "source": [
    "import numpy as np\n",
    "import matplotlib.pyplot as plt\n",
    "z = np.zeros((100, 100))\n",
    "\n",
    "for x in range(100):\n",
    "    for y in range(100):\n",
    "        z[x][y] = net.propagate(input=[x/100, y/100])[0]\n",
    "\n",
    "plt.imshow(z, cmap=plt.cm.gray, interpolation='nearest')\n",
    "plt.xlabel(\"input 1\")\n",
    "plt.ylabel(\"input 2\")\n",
    "plt.title(\"Output Activation\")\n",
    "\n",
    "plt.show()"
   ]
  },
  {
   "cell_type": "code",
   "execution_count": null,
   "metadata": {},
   "outputs": [],
   "source": []
  }
 ],
 "metadata": {
  "kernelspec": {
   "display_name": "Python 3",
   "language": "python",
   "name": "python3"
  },
  "language_info": {
   "codemirror_mode": {
    "name": "ipython",
    "version": 3
   },
   "file_extension": ".py",
   "mimetype": "text/x-python",
   "name": "python",
   "nbconvert_exporter": "python",
   "pygments_lexer": "ipython3",
   "version": "3.7.4"
  }
 },
 "nbformat": 4,
 "nbformat_minor": 2
}
